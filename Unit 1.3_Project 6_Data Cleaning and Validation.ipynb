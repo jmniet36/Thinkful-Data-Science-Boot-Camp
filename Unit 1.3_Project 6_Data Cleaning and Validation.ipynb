{
 "cells": [
  {
   "cell_type": "code",
   "execution_count": 1,
   "metadata": {},
   "outputs": [
    {
     "data": {
      "text/html": [
       "<script>\n",
       "code_show=true; \n",
       "function code_toggle() {\n",
       " if (code_show){\n",
       " $('div.input').hide();\n",
       " } else {\n",
       " $('div.input').show();\n",
       " }\n",
       " code_show = !code_show\n",
       "} \n",
       "$( document ).ready(code_toggle);\n",
       "</script>\n",
       "<form action=\"javascript:code_toggle()\"><input type=\"submit\" value=\"Click here to toggle on/off the raw code.\"></form>"
      ],
      "text/plain": [
       "<IPython.core.display.HTML object>"
      ]
     },
     "execution_count": 1,
     "metadata": {},
     "output_type": "execute_result"
    }
   ],
   "source": [
    "from IPython.display import HTML\n",
    "\n",
    "HTML('''<script>\n",
    "code_show=true; \n",
    "function code_toggle() {\n",
    " if (code_show){\n",
    " $('div.input').hide();\n",
    " } else {\n",
    " $('div.input').show();\n",
    " }\n",
    " code_show = !code_show\n",
    "} \n",
    "$( document ).ready(code_toggle);\n",
    "</script>\n",
    "<form action=\"javascript:code_toggle()\"><input type=\"submit\" value=\"Click here to toggle on/off the raw code.\"></form>''')"
   ]
  },
  {
   "cell_type": "code",
   "execution_count": 37,
   "metadata": {},
   "outputs": [],
   "source": [
    "import numpy as np\n",
    "import pandas as pd\n",
    "import matplotlib.pyplot as plt\n",
    "import seaborn as sns\n",
    "from scipy import stats"
   ]
  },
  {
   "cell_type": "markdown",
   "metadata": {},
   "source": [
    "<font style = 'font-family:Aparajita'><font size = 6><b>Challenge: Data Cleaning & Validation </b></font>\n",
    "<p><font style = 'font-family:Aparajita'><font size = 5><i>Unit 1.3 Project 6</i>"
   ]
  },
  {
   "cell_type": "markdown",
   "metadata": {},
   "source": [
    "### Importing and Analyzing Data"
   ]
  },
  {
   "cell_type": "code",
   "execution_count": 38,
   "metadata": {
    "scrolled": false
   },
   "outputs": [
    {
     "name": "stdout",
     "output_type": "stream",
     "text": [
      "\u001b[0;30;49mImporting data set \"WELLCOME_APCspend2013_forThinkful\".\n",
      "\n"
     ]
    },
    {
     "data": {
      "text/html": [
       "<div>\n",
       "<style scoped>\n",
       "    .dataframe tbody tr th:only-of-type {\n",
       "        vertical-align: middle;\n",
       "    }\n",
       "\n",
       "    .dataframe tbody tr th {\n",
       "        vertical-align: top;\n",
       "    }\n",
       "\n",
       "    .dataframe thead th {\n",
       "        text-align: right;\n",
       "    }\n",
       "</style>\n",
       "<table border=\"1\" class=\"dataframe\">\n",
       "  <thead>\n",
       "    <tr style=\"text-align: right;\">\n",
       "      <th></th>\n",
       "      <th>PMID/PMCID</th>\n",
       "      <th>Publisher</th>\n",
       "      <th>Journal title</th>\n",
       "      <th>Article title</th>\n",
       "      <th>COST (£) charged to Wellcome (inc VAT when charged)</th>\n",
       "    </tr>\n",
       "  </thead>\n",
       "  <tbody>\n",
       "    <tr>\n",
       "      <th>0</th>\n",
       "      <td>NaN</td>\n",
       "      <td>CUP</td>\n",
       "      <td>Psychological Medicine</td>\n",
       "      <td>Reduced parahippocampal cortical thickness in ...</td>\n",
       "      <td>£0.00</td>\n",
       "    </tr>\n",
       "    <tr>\n",
       "      <th>1</th>\n",
       "      <td>PMC3679557</td>\n",
       "      <td>ACS</td>\n",
       "      <td>Biomacromolecules</td>\n",
       "      <td>Structural characterization of a Model Gram-ne...</td>\n",
       "      <td>£2381.04</td>\n",
       "    </tr>\n",
       "    <tr>\n",
       "      <th>2</th>\n",
       "      <td>23043264  PMC3506128</td>\n",
       "      <td>ACS</td>\n",
       "      <td>J Med Chem</td>\n",
       "      <td>Fumaroylamino-4,5-epoxymorphinans and related ...</td>\n",
       "      <td>£642.56</td>\n",
       "    </tr>\n",
       "  </tbody>\n",
       "</table>\n",
       "</div>"
      ],
      "text/plain": [
       "              PMID/PMCID Publisher           Journal title  \\\n",
       "0                    NaN       CUP  Psychological Medicine   \n",
       "1             PMC3679557       ACS       Biomacromolecules   \n",
       "2  23043264  PMC3506128        ACS              J Med Chem   \n",
       "\n",
       "                                       Article title  \\\n",
       "0  Reduced parahippocampal cortical thickness in ...   \n",
       "1  Structural characterization of a Model Gram-ne...   \n",
       "2  Fumaroylamino-4,5-epoxymorphinans and related ...   \n",
       "\n",
       "  COST (£) charged to Wellcome (inc VAT when charged)  \n",
       "0                                              £0.00   \n",
       "1                                           £2381.04   \n",
       "2                                            £642.56   "
      ]
     },
     "execution_count": 38,
     "metadata": {},
     "output_type": "execute_result"
    }
   ],
   "source": [
    "print('\\033[0;30;49mImporting data set \"WELLCOME_APCspend2013_forThinkful\".\\n')\n",
    "\n",
    "# Importing sample data set WELLCOME Trust between 2012 and 2013. \n",
    "raw_prices = pd.read_csv('WELLCOME_APCspend2013_forThinkful.csv', \n",
    "                     encoding = 'latin1')\n",
    "raw_prices.head(3)"
   ]
  },
  {
   "cell_type": "code",
   "execution_count": 39,
   "metadata": {
    "scrolled": true
   },
   "outputs": [
    {
     "name": "stdout",
     "output_type": "stream",
     "text": [
      "\u001b[0;30;49mDropping column PMID/PMCID as we will be using the Journal title as an ID.\n",
      "\n"
     ]
    },
    {
     "data": {
      "text/html": [
       "<div>\n",
       "<style scoped>\n",
       "    .dataframe tbody tr th:only-of-type {\n",
       "        vertical-align: middle;\n",
       "    }\n",
       "\n",
       "    .dataframe tbody tr th {\n",
       "        vertical-align: top;\n",
       "    }\n",
       "\n",
       "    .dataframe thead th {\n",
       "        text-align: right;\n",
       "    }\n",
       "</style>\n",
       "<table border=\"1\" class=\"dataframe\">\n",
       "  <thead>\n",
       "    <tr style=\"text-align: right;\">\n",
       "      <th></th>\n",
       "      <th>Publisher</th>\n",
       "      <th>Journal title</th>\n",
       "      <th>Article title</th>\n",
       "      <th>COST (£) charged to Wellcome (inc VAT when charged)</th>\n",
       "    </tr>\n",
       "  </thead>\n",
       "  <tbody>\n",
       "    <tr>\n",
       "      <th>0</th>\n",
       "      <td>CUP</td>\n",
       "      <td>Psychological Medicine</td>\n",
       "      <td>Reduced parahippocampal cortical thickness in ...</td>\n",
       "      <td>£0.00</td>\n",
       "    </tr>\n",
       "    <tr>\n",
       "      <th>1</th>\n",
       "      <td>ACS</td>\n",
       "      <td>Biomacromolecules</td>\n",
       "      <td>Structural characterization of a Model Gram-ne...</td>\n",
       "      <td>£2381.04</td>\n",
       "    </tr>\n",
       "    <tr>\n",
       "      <th>2</th>\n",
       "      <td>ACS</td>\n",
       "      <td>J Med Chem</td>\n",
       "      <td>Fumaroylamino-4,5-epoxymorphinans and related ...</td>\n",
       "      <td>£642.56</td>\n",
       "    </tr>\n",
       "  </tbody>\n",
       "</table>\n",
       "</div>"
      ],
      "text/plain": [
       "  Publisher           Journal title  \\\n",
       "0       CUP  Psychological Medicine   \n",
       "1       ACS       Biomacromolecules   \n",
       "2       ACS              J Med Chem   \n",
       "\n",
       "                                       Article title  \\\n",
       "0  Reduced parahippocampal cortical thickness in ...   \n",
       "1  Structural characterization of a Model Gram-ne...   \n",
       "2  Fumaroylamino-4,5-epoxymorphinans and related ...   \n",
       "\n",
       "  COST (£) charged to Wellcome (inc VAT when charged)  \n",
       "0                                              £0.00   \n",
       "1                                           £2381.04   \n",
       "2                                            £642.56   "
      ]
     },
     "execution_count": 39,
     "metadata": {},
     "output_type": "execute_result"
    }
   ],
   "source": [
    "print('\\033[0;30;49mDropping column PMID/PMCID as we will be using the Journal title as an ID.\\n')\n",
    "\n",
    "# Creating new data frame without column PMID/PMCID called 'prices'\n",
    "prices = raw_prices.drop(columns = ['PMID/PMCID'])\n",
    "prices.head(3)"
   ]
  },
  {
   "cell_type": "code",
   "execution_count": 40,
   "metadata": {},
   "outputs": [
    {
     "name": "stdout",
     "output_type": "stream",
     "text": [
      "\u001b[0;30;49mChanging last three column names for easier analysis.\n",
      "\n"
     ]
    },
    {
     "data": {
      "text/html": [
       "<div>\n",
       "<style scoped>\n",
       "    .dataframe tbody tr th:only-of-type {\n",
       "        vertical-align: middle;\n",
       "    }\n",
       "\n",
       "    .dataframe tbody tr th {\n",
       "        vertical-align: top;\n",
       "    }\n",
       "\n",
       "    .dataframe thead th {\n",
       "        text-align: right;\n",
       "    }\n",
       "</style>\n",
       "<table border=\"1\" class=\"dataframe\">\n",
       "  <thead>\n",
       "    <tr style=\"text-align: right;\">\n",
       "      <th></th>\n",
       "      <th>Publisher</th>\n",
       "      <th>Journal</th>\n",
       "      <th>Article</th>\n",
       "      <th>Cost</th>\n",
       "    </tr>\n",
       "  </thead>\n",
       "  <tbody>\n",
       "    <tr>\n",
       "      <th>0</th>\n",
       "      <td>CUP</td>\n",
       "      <td>Psychological Medicine</td>\n",
       "      <td>Reduced parahippocampal cortical thickness in ...</td>\n",
       "      <td>£0.00</td>\n",
       "    </tr>\n",
       "    <tr>\n",
       "      <th>1</th>\n",
       "      <td>ACS</td>\n",
       "      <td>Biomacromolecules</td>\n",
       "      <td>Structural characterization of a Model Gram-ne...</td>\n",
       "      <td>£2381.04</td>\n",
       "    </tr>\n",
       "    <tr>\n",
       "      <th>2</th>\n",
       "      <td>ACS</td>\n",
       "      <td>J Med Chem</td>\n",
       "      <td>Fumaroylamino-4,5-epoxymorphinans and related ...</td>\n",
       "      <td>£642.56</td>\n",
       "    </tr>\n",
       "  </tbody>\n",
       "</table>\n",
       "</div>"
      ],
      "text/plain": [
       "  Publisher                 Journal  \\\n",
       "0       CUP  Psychological Medicine   \n",
       "1       ACS       Biomacromolecules   \n",
       "2       ACS              J Med Chem   \n",
       "\n",
       "                                             Article      Cost  \n",
       "0  Reduced parahippocampal cortical thickness in ...     £0.00  \n",
       "1  Structural characterization of a Model Gram-ne...  £2381.04  \n",
       "2  Fumaroylamino-4,5-epoxymorphinans and related ...   £642.56  "
      ]
     },
     "execution_count": 40,
     "metadata": {},
     "output_type": "execute_result"
    }
   ],
   "source": [
    "print('\\033[0;30;49mChanging last three column names for easier analysis.\\n')\n",
    "\n",
    "# Renamming columns for easier analysis.\n",
    "prices = prices.rename(columns = {'COST (£) charged to Wellcome (inc VAT when charged)': 'Cost',\n",
    "                                          'Journal title': 'Journal',\n",
    "                                          'Article title' : 'Article'})\n",
    "prices.head(3)"
   ]
  },
  {
   "cell_type": "code",
   "execution_count": 41,
   "metadata": {},
   "outputs": [
    {
     "name": "stdout",
     "output_type": "stream",
     "text": [
      "\u001b[0;30;49mCleaning spelling errors in column \"Journal\" of price dataframe.\n",
      "\n",
      "Number of Unique Journals: 886\n"
     ]
    },
    {
     "data": {
      "text/html": [
       "<div>\n",
       "<style scoped>\n",
       "    .dataframe tbody tr th:only-of-type {\n",
       "        vertical-align: middle;\n",
       "    }\n",
       "\n",
       "    .dataframe tbody tr th {\n",
       "        vertical-align: top;\n",
       "    }\n",
       "\n",
       "    .dataframe thead th {\n",
       "        text-align: right;\n",
       "    }\n",
       "</style>\n",
       "<table border=\"1\" class=\"dataframe\">\n",
       "  <thead>\n",
       "    <tr style=\"text-align: right;\">\n",
       "      <th></th>\n",
       "      <th>Publisher</th>\n",
       "      <th>Journal</th>\n",
       "      <th>Article</th>\n",
       "      <th>Cost</th>\n",
       "    </tr>\n",
       "  </thead>\n",
       "  <tbody>\n",
       "    <tr>\n",
       "      <th>0</th>\n",
       "      <td>CUP</td>\n",
       "      <td>PSYCHOLOGICAL MEDICINE</td>\n",
       "      <td>Reduced parahippocampal cortical thickness in ...</td>\n",
       "      <td>£0.00</td>\n",
       "    </tr>\n",
       "    <tr>\n",
       "      <th>1</th>\n",
       "      <td>ACS</td>\n",
       "      <td>BIOMACROMOLECULES</td>\n",
       "      <td>Structural characterization of a Model Gram-ne...</td>\n",
       "      <td>£2381.04</td>\n",
       "    </tr>\n",
       "    <tr>\n",
       "      <th>2</th>\n",
       "      <td>ACS</td>\n",
       "      <td>J MED CHEM</td>\n",
       "      <td>Fumaroylamino-4,5-epoxymorphinans and related ...</td>\n",
       "      <td>£642.56</td>\n",
       "    </tr>\n",
       "    <tr>\n",
       "      <th>3</th>\n",
       "      <td>ACS</td>\n",
       "      <td>J MED CHEM</td>\n",
       "      <td>Orvinols with mixed kappa/mu opioid receptor a...</td>\n",
       "      <td>£669.64</td>\n",
       "    </tr>\n",
       "    <tr>\n",
       "      <th>4</th>\n",
       "      <td>ACS</td>\n",
       "      <td>J ORG CHEM</td>\n",
       "      <td>Regioselective opening of myo-inositol orthoes...</td>\n",
       "      <td>£685.88</td>\n",
       "    </tr>\n",
       "  </tbody>\n",
       "</table>\n",
       "</div>"
      ],
      "text/plain": [
       "  Publisher                 Journal  \\\n",
       "0       CUP  PSYCHOLOGICAL MEDICINE   \n",
       "1       ACS       BIOMACROMOLECULES   \n",
       "2       ACS              J MED CHEM   \n",
       "3       ACS              J MED CHEM   \n",
       "4       ACS              J ORG CHEM   \n",
       "\n",
       "                                             Article      Cost  \n",
       "0  Reduced parahippocampal cortical thickness in ...     £0.00  \n",
       "1  Structural characterization of a Model Gram-ne...  £2381.04  \n",
       "2  Fumaroylamino-4,5-epoxymorphinans and related ...   £642.56  \n",
       "3  Orvinols with mixed kappa/mu opioid receptor a...   £669.64  \n",
       "4  Regioselective opening of myo-inositol orthoes...   £685.88  "
      ]
     },
     "execution_count": 41,
     "metadata": {},
     "output_type": "execute_result"
    }
   ],
   "source": [
    "print('\\033[0;30;49mCleaning spelling errors in column \"Journal\" of price dataframe.\\n')\n",
    "\n",
    "# Cleaning spelling errors in column \"Journal\" of price data frame.\n",
    "\n",
    "prices.loc[:,'Journal'] = prices.loc[:,'Journal'].str.upper()\n",
    "prices.loc[:,'Journal'] = prices.loc[:,'Journal'].str.strip() \n",
    "\n",
    "#Remove punctuation signs\n",
    "list_punctuation = [':', '.', ',', '-', 'the ']     \n",
    "for i in np.arange(len(list_punctuation)):\n",
    "    prices.loc[:,'Journal'] = prices.loc[:,'Journal'].str.replace(list_punctuation[i], '')            \n",
    "\n",
    "#Remove double spaces\n",
    "prices.loc[:,'Journal'] = prices.loc[:,'Journal'].str.replace('  ', ' ')\n",
    "\n",
    "#Correct 'and'\n",
    "prices.loc[:,'Journal'] = prices.loc[:,'Journal'].str.replace('&', 'and')\n",
    "\n",
    "#'American'\n",
    "list_american = ['americal','american']\n",
    "for i in np.arange(len(list_american)):\n",
    "    prices.loc[:,'Journal'] = prices.loc[:,'Journal'].str.replace(list_american[i], 'am')\n",
    "\n",
    "#'journal'\n",
    "list_journal = ['journal', 'joural', 'jounal', 'journal of', 'journal', 'jnl', 'js', 'jounral']\n",
    "for i in np.arange(len(list_journal)):\n",
    "    prices.loc[:,'Journal'] = prices.loc[:,'Journal'].str.replace(list_journal[i], 'j') \n",
    "    \n",
    "# Misspellings and different abbrevations\n",
    "prices.loc[:,'Journal'] = prices.loc[:,'Journal'].str.replace('bioohysica', 'biophysica')\n",
    "prices.loc[:,'Journal'] = prices.loc[:,'Journal'].str.replace('clinicla', 'clinical')\n",
    "prices.loc[:,'Journal'] = prices.loc[:,'Journal'].str.replace('heath', 'health')\n",
    "prices.loc[:,'Journal'] = prices.loc[:,'Journal'].str.replace('behaviour', 'behavior')\n",
    "prices.loc[:,'Journal'] = prices.loc[:,'Journal'].str.replace('neuropathol$ ', 'neuropathologica ')\n",
    "prices.loc[:,'Journal'] = prices.loc[:,'Journal'].str.replace('brt', 'british')\n",
    "prices.loc[:,'Journal'] = prices.loc[:,'Journal'].str.replace('angewande', 'angewandte')\n",
    "prices.loc[:,'Journal'] = prices.loc[:,'Journal'].str.replace('molecluar', 'molecular')\n",
    "prices.loc[:,'Journal'] = prices.loc[:,'Journal'].str.replace('ophthalmology', 'opthalmology')\n",
    "prices.loc[:,'Journal'] = prices.loc[:,'Journal'].str.replace('infect dis', 'infectious diseases')\n",
    "prices.loc[:,'Journal'] = prices.loc[:,'Journal'].str.replace('sci$', 'science')\n",
    "prices.loc[:,'Journal'] = prices.loc[:,'Journal'].str.replace('agfents', 'agents')\n",
    "prices.loc[:,'Journal'] = prices.loc[:,'Journal'].str.replace('biinformatics', 'bioinformatics')\n",
    "prices.loc[:,'Journal'] = prices.loc[:,'Journal'].str.replace('britsh$', 'british')\n",
    "prices.loc[:,'Journal'] = prices.loc[:,'Journal'].str.replace('child: care, health development', 'child: care, health and development')\n",
    "prices.loc[:,'Journal'] = prices.loc[:,'Journal'].str.replace('epigentics', 'epigenetics')\n",
    "prices.loc[:,'Journal'] = prices.loc[:,'Journal'].str.replace('psychiatty', 'psychiatry')\n",
    "prices.loc[:,'Journal'] = prices.loc[:,'Journal'].str.replace('epidemiol$', 'epidemiology')\n",
    "prices.loc[:,'Journal'] = prices.loc[:,'Journal'].str.replace('epidemology', 'epidemiology')\n",
    "prices.loc[:,'Journal'] = prices.loc[:,'Journal'].str.replace('immunol$', 'immunology')\n",
    "prices.loc[:,'Journal'] = prices.loc[:,'Journal'].str.replace('heptology', 'hepatology')\n",
    "prices.loc[:,'Journal'] = prices.loc[:,'Journal'].str.replace('experiements', 'experiments')\n",
    "prices.loc[:,'Journal'] = prices.loc[:,'Journal'].str.replace('proceddings', 'proceedings')\n",
    "prices.loc[:,'Journal'] = prices.loc[:,'Journal'].str.replace('biologicial', 'biological')\n",
    "prices.loc[:,'Journal'] = prices.loc[:,'Journal'].str.replace('biologyl', 'biology')\n",
    "prices.loc[:,'Journal'] = prices.loc[:,'Journal'].str.replace('antimicobial', 'antimicrobial')\n",
    "prices.loc[:,'Journal'] = prices.loc[:,'Journal'].str.replace('angew chems int ed', 'angewandte chemie international edition')\n",
    "prices.loc[:,'Journal'] = prices.loc[:,'Journal'].str.replace('\\(bba\\)', '')\n",
    "prices.loc[:,'Journal'] = prices.loc[:,'Journal'].str.replace('biochimica et biophysica acta',  'bba') \n",
    "prices.loc[:,'Journal'] = prices.loc[:,'Journal'].str.replace('biol open', 'biology open') \n",
    "prices.loc[:,'Journal'] = prices.loc[:,'Journal'].str.replace('biochem j', 'biochemical j')\n",
    "prices.loc[:,'Journal'] = prices.loc[:,'Journal'].str.replace('public library of science', 'plos')\n",
    "prices.loc[:,'Journal'] = prices.loc[:,'Journal'].str.replace('plos 1', 'plos one')\n",
    "prices.loc[:,'Journal'] = prices.loc[:,'Journal'].str.replace('plosone', 'plos one')\n",
    "prices.loc[:,'Journal'] = prices.loc[:,'Journal'].str.replace('negected', 'neglected')\n",
    "prices.loc[:,'Journal'] = prices.loc[:,'Journal'].str.replace('nucleic acid research', 'nucleic acids research')\n",
    "prices.loc[:,'Journal'] = prices.loc[:,'Journal'].str.replace('am j trop med hyg', 'am j of tropical medicine and hygiene')\n",
    "prices.loc[:,'Journal'] = prices.loc[:,'Journal'].str.replace('am j for clinical nutrition', 'am j of clinical nutrition')  \n",
    "prices.loc[:,'Journal'] = prices.loc[:,'Journal'].str.replace('acta d', 'acta crystallographica section d')\n",
    "prices.loc[:,'Journal'] = prices.loc[:,'Journal'].str.replace('acta crystallography d', 'acta crystallographica section d') \n",
    "prices.loc[:,'Journal'] = prices.loc[:,'Journal'].str.replace('acta crystallographica section d biological crystallography', 'acta crystallographica section d') \n",
    "prices.loc[:,'Journal'] = prices.loc[:,'Journal'].str.replace('acta f', 'acta crystallographica section f')\n",
    "prices.loc[:,'Journal'] = prices.loc[:,'Journal'].str.replace('acta crystallographica section f structural biology and crystallization communications', 'acta crystallographica section f')\n",
    "prices.loc[:,'Journal'] = prices.loc[:,'Journal'].str.replace('acta neuropathologica', 'acta neuropathol') \n",
    "prices.loc[:,'Journal'] = prices.loc[:,'Journal'].str.replace('cell death differentiation', 'cell death and differentiation') \n",
    "prices.loc[:,'Journal'] = prices.loc[:,'Journal'].str.replace('child care health development', 'child care health and development')\n",
    "prices.loc[:,'Journal'] = prices.loc[:,'Journal'].str.replace('clinical infectious diseases', 'clinical infectious disease') \n",
    "prices.loc[:,'Journal'] = prices.loc[:,'Journal'].str.replace('curr biol', 'current biology') \n",
    "prices.loc[:,'Journal'] = prices.loc[:,'Journal'].str.replace('current opinions in neurobiology', 'current opinion in neurobiology') \n",
    "prices.loc[:,'Journal'] = prices.loc[:,'Journal'].str.replace('haematologica\\/haematology j    ', 'haematologica') \n",
    "prices.loc[:,'Journal'] = prices.loc[:,'Journal'].str.replace('human mol genetics online', 'human molecular genetics online') \n",
    "prices.loc[:,'Journal'] = prices.loc[:,'Journal'].str.replace('international', 'int') \n",
    "prices.loc[:,'Journal'] = prices.loc[:,'Journal'].str.replace('inyernational', 'int') \n",
    "prices.loc[:,'Journal'] = prices.loc[:,'Journal'].str.replace('j biol chemistry','j biol chem')\n",
    "prices.loc[:,'Journal'] = prices.loc[:,'Journal'].str.replace('j biological chemistry','j biol chem')\n",
    "prices.loc[:,'Journal'] = prices.loc[:,'Journal'].str.replace('j of biol chem','j biol chem')\n",
    "prices.loc[:,'Journal'] = prices.loc[:,'Journal'].str.replace('j of biological chemistry','j biol chem')\n",
    "prices.loc[:,'Journal'] = prices.loc[:,'Journal'].str.replace('j of autism and development disorders', 'j of autism and developmental disorders') \n",
    "prices.loc[:,'Journal'] = prices.loc[:,'Journal'].str.replace('j of acquired immune deficiency syndroms \\(jaids\\)', 'j of acquired immune deficiency syndromes') \n",
    "prices.loc[:,'Journal'] = prices.loc[:,'Journal'].str.replace('j of visulaized expermiments', 'j of visualized experiments')\n",
    "prices.loc[:,'Journal'] = prices.loc[:,'Journal'].str.replace('j of virology', 'j of virol') \n",
    "prices.loc[:,'Journal'] = prices.loc[:,'Journal'].str.replace('marten child nutr', 'maternal and child nutrition')                                                 \n",
    "prices.loc[:,'Journal'] = prices.loc[:,'Journal'].str.replace('mol bio', 'molecular biology')\n",
    "prices.loc[:,'Journal'] = prices.loc[:,'Journal'].str.replace('plos ntd','plos neglected tropical diseases')\n",
    "\n",
    "#pnas\n",
    "list_pnas = ['pnas \\(proceedings of national academy of sciences of united states of america', \n",
    "             'pnas usa', \n",
    "             'proc natl acad sci u s a', \n",
    "             'proceedings of national academy of sciences', \n",
    "             'proceedings of national academy of sciences \\(pnas\\)',\n",
    "             'proceedings of national academy of sciences of united states of america', \n",
    "             'proceedings of national academy of sciences of usa']    \n",
    "for i in np.arange(len(list_pnas)):\n",
    "    prices.loc[:,'Journal'] = prices.loc[:,'Journal'].str.replace(list_pnas[i], 'pnas') \n",
    "\n",
    "print('Number of Unique Journals:',len(prices.groupby('Journal').count()))\n",
    "prices.head(5)"
   ]
  },
  {
   "cell_type": "code",
   "execution_count": 42,
   "metadata": {
    "scrolled": true
   },
   "outputs": [
    {
     "name": "stdout",
     "output_type": "stream",
     "text": [
      "\u001b[0;30;49mCleaning \"Cost\" column and removing money symbols and 999999.00 values.\n",
      "\n"
     ]
    },
    {
     "data": {
      "text/html": [
       "<div>\n",
       "<style scoped>\n",
       "    .dataframe tbody tr th:only-of-type {\n",
       "        vertical-align: middle;\n",
       "    }\n",
       "\n",
       "    .dataframe tbody tr th {\n",
       "        vertical-align: top;\n",
       "    }\n",
       "\n",
       "    .dataframe thead th {\n",
       "        text-align: right;\n",
       "    }\n",
       "</style>\n",
       "<table border=\"1\" class=\"dataframe\">\n",
       "  <thead>\n",
       "    <tr style=\"text-align: right;\">\n",
       "      <th></th>\n",
       "      <th>Publisher</th>\n",
       "      <th>Journal</th>\n",
       "      <th>Article</th>\n",
       "      <th>Cost</th>\n",
       "    </tr>\n",
       "  </thead>\n",
       "  <tbody>\n",
       "    <tr>\n",
       "      <th>0</th>\n",
       "      <td>CUP</td>\n",
       "      <td>PSYCHOLOGICAL MEDICINE</td>\n",
       "      <td>Reduced parahippocampal cortical thickness in ...</td>\n",
       "      <td>0.00</td>\n",
       "    </tr>\n",
       "    <tr>\n",
       "      <th>1</th>\n",
       "      <td>ACS</td>\n",
       "      <td>BIOMACROMOLECULES</td>\n",
       "      <td>Structural characterization of a Model Gram-ne...</td>\n",
       "      <td>2381.04</td>\n",
       "    </tr>\n",
       "    <tr>\n",
       "      <th>2</th>\n",
       "      <td>ACS</td>\n",
       "      <td>J MED CHEM</td>\n",
       "      <td>Fumaroylamino-4,5-epoxymorphinans and related ...</td>\n",
       "      <td>642.56</td>\n",
       "    </tr>\n",
       "  </tbody>\n",
       "</table>\n",
       "</div>"
      ],
      "text/plain": [
       "  Publisher                 Journal  \\\n",
       "0       CUP  PSYCHOLOGICAL MEDICINE   \n",
       "1       ACS       BIOMACROMOLECULES   \n",
       "2       ACS              J MED CHEM   \n",
       "\n",
       "                                             Article     Cost  \n",
       "0  Reduced parahippocampal cortical thickness in ...     0.00  \n",
       "1  Structural characterization of a Model Gram-ne...  2381.04  \n",
       "2  Fumaroylamino-4,5-epoxymorphinans and related ...   642.56  "
      ]
     },
     "execution_count": 42,
     "metadata": {},
     "output_type": "execute_result"
    }
   ],
   "source": [
    "print('\\033[0;30;49mCleaning \"Cost\" column and removing money symbols and 999999.00 values.\\n')\n",
    "\n",
    "# Cleaning \"Cost\" column.\n",
    "\n",
    "# Removing \"£\" from Cost column.\n",
    "prices.loc[:,'Cost'] = prices.loc[:,'Cost'].str.replace('£','')\n",
    "\n",
    "# Removing \"$\" from Cost column.\n",
    "prices.loc[:,'Cost'] = prices.loc[:,'Cost'].str.replace('$','')\n",
    "\n",
    "# Removing 999999.00 value and replacing with NaN.\n",
    "prices.loc[:,'Cost'] = prices.loc[:,'Cost'].replace('999999.00', np.nan)\n",
    "\n",
    "# Removing the values in column \"Cost\" that have nan values.\n",
    "prices = prices.drop(prices[prices['Cost']== 'nan'].index)\n",
    "\n",
    "prices.head(3)"
   ]
  },
  {
   "cell_type": "code",
   "execution_count": 43,
   "metadata": {},
   "outputs": [],
   "source": [
    "# Converting dtype from object to float.\n",
    "prices['Cost'] = prices['Cost'].apply(float)"
   ]
  },
  {
   "cell_type": "code",
   "execution_count": 44,
   "metadata": {},
   "outputs": [],
   "source": [
    "# Dropping empty rows in column 'Cost'.\n",
    "prices.dropna(subset=['Cost'], inplace=True)"
   ]
  },
  {
   "cell_type": "code",
   "execution_count": 45,
   "metadata": {
    "scrolled": false
   },
   "outputs": [
    {
     "name": "stdout",
     "output_type": "stream",
     "text": [
      "\u001b[0;30;49mFrom this boxplot, we can see that there are at least three outliers that are skewing the shape of the dataset.\n",
      "\n"
     ]
    },
    {
     "data": {
      "image/png": "[encoded data removed]",
      "text/plain": [
       "<Figure size 2160x720 with 1 Axes>"
      ]
     },
     "metadata": {},
     "output_type": "display_data"
    }
   ],
   "source": [
    "print('\\033[0;30;49mFrom this boxplot, we can see that there are at least three outliers that are skewing the shape of the dataset.\\n')\n",
    "\n",
    "# Using seaborne to plot data and find outliers.\n",
    "figure, ax = plt.subplots(figsize=(30,10))\n",
    "sns.set(style = 'darkgrid')\n",
    "sns.boxplot(x=prices['Cost'])\n",
    "plt.title('Box Plot: Prices')\n",
    "\n",
    "plt.show()"
   ]
  },
  {
   "cell_type": "code",
   "execution_count": 46,
   "metadata": {},
   "outputs": [
    {
     "name": "stdout",
     "output_type": "stream",
     "text": [
      "\u001b[0;30;49mCalculating standard deviation and mean of data set. Then determining upper threshold of data set.\n",
      "\n",
      "Standard Deviation: 6100.422955877218\n",
      "Mean: 2015.038038461542\n",
      "Upper threshold for outlier: 3540.1437774308465\n"
     ]
    }
   ],
   "source": [
    "print('\\033[0;30;49mCalculating standard deviation and mean of data set. Then determining upper threshold of data set.\\n')\n",
    "\n",
    "# Calculating standard deviation and mean of data set.\n",
    "std_price = prices['Cost'].std()\n",
    "avg_price = prices['Cost'].mean()\n",
    "\n",
    "# Calculating threshold of data set.\n",
    "upper_threshold = avg_price + (std_price*.25) # Because the data set had so many outliers, we are only setting the threshold to 25% of the standard deviation above the mean.\n",
    "\n",
    "# Printing results.\n",
    "print('Standard Deviation:',std_price)\n",
    "print('Mean:',avg_price)\n",
    "print('Upper threshold for outlier:', upper_threshold)"
   ]
  },
  {
   "cell_type": "code",
   "execution_count": 47,
   "metadata": {},
   "outputs": [
    {
     "name": "stdout",
     "output_type": "stream",
     "text": [
      "\u001b[0;30;49mUsing calculated upper threshold value to create new column with values \"True\" if Cost value is an outlier and \"False\" if it is not.\n",
      "\n"
     ]
    },
    {
     "data": {
      "text/html": [
       "<div>\n",
       "<style scoped>\n",
       "    .dataframe tbody tr th:only-of-type {\n",
       "        vertical-align: middle;\n",
       "    }\n",
       "\n",
       "    .dataframe tbody tr th {\n",
       "        vertical-align: top;\n",
       "    }\n",
       "\n",
       "    .dataframe thead th {\n",
       "        text-align: right;\n",
       "    }\n",
       "</style>\n",
       "<table border=\"1\" class=\"dataframe\">\n",
       "  <thead>\n",
       "    <tr style=\"text-align: right;\">\n",
       "      <th></th>\n",
       "      <th>Publisher</th>\n",
       "      <th>Journal</th>\n",
       "      <th>Article</th>\n",
       "      <th>Cost</th>\n",
       "      <th>Outlier</th>\n",
       "    </tr>\n",
       "  </thead>\n",
       "  <tbody>\n",
       "    <tr>\n",
       "      <th>0</th>\n",
       "      <td>CUP</td>\n",
       "      <td>PSYCHOLOGICAL MEDICINE</td>\n",
       "      <td>Reduced parahippocampal cortical thickness in ...</td>\n",
       "      <td>0.00</td>\n",
       "      <td>False</td>\n",
       "    </tr>\n",
       "    <tr>\n",
       "      <th>1</th>\n",
       "      <td>ACS</td>\n",
       "      <td>BIOMACROMOLECULES</td>\n",
       "      <td>Structural characterization of a Model Gram-ne...</td>\n",
       "      <td>2381.04</td>\n",
       "      <td>False</td>\n",
       "    </tr>\n",
       "    <tr>\n",
       "      <th>2</th>\n",
       "      <td>ACS</td>\n",
       "      <td>J MED CHEM</td>\n",
       "      <td>Fumaroylamino-4,5-epoxymorphinans and related ...</td>\n",
       "      <td>642.56</td>\n",
       "      <td>False</td>\n",
       "    </tr>\n",
       "  </tbody>\n",
       "</table>\n",
       "</div>"
      ],
      "text/plain": [
       "  Publisher                 Journal  \\\n",
       "0       CUP  PSYCHOLOGICAL MEDICINE   \n",
       "1       ACS       BIOMACROMOLECULES   \n",
       "2       ACS              J MED CHEM   \n",
       "\n",
       "                                             Article     Cost  Outlier  \n",
       "0  Reduced parahippocampal cortical thickness in ...     0.00    False  \n",
       "1  Structural characterization of a Model Gram-ne...  2381.04    False  \n",
       "2  Fumaroylamino-4,5-epoxymorphinans and related ...   642.56    False  "
      ]
     },
     "execution_count": 47,
     "metadata": {},
     "output_type": "execute_result"
    }
   ],
   "source": [
    "print('\\033[0;30;49mUsing calculated upper threshold value to create new column with values \"True\" if Cost value is an outlier and \"False\" if it is not.\\n')\n",
    "\n",
    "#Creating an empty column for outlier information.\n",
    "prices['Outlier'] = None\n",
    "\n",
    "# Iterate over rows\n",
    "for idx, row in prices.iterrows():\n",
    "    # Update the 'Outlier' column with True if the cost is higher than the threshold value.\n",
    "    if row['Cost'] > upper_threshold :\n",
    "        prices.loc[idx, 'Outlier'] = True\n",
    "    else:\n",
    "        prices.loc[idx, 'Outlier'] = False\n",
    "prices.head(3)"
   ]
  },
  {
   "cell_type": "code",
   "execution_count": 61,
   "metadata": {},
   "outputs": [
    {
     "name": "stdout",
     "output_type": "stream",
     "text": [
      "\u001b[0;30;49mDropping \"True\" values in Outlier column and creating new data frame new_price.\n",
      "\n"
     ]
    },
    {
     "data": {
      "text/html": [
       "<div>\n",
       "<style scoped>\n",
       "    .dataframe tbody tr th:only-of-type {\n",
       "        vertical-align: middle;\n",
       "    }\n",
       "\n",
       "    .dataframe tbody tr th {\n",
       "        vertical-align: top;\n",
       "    }\n",
       "\n",
       "    .dataframe thead th {\n",
       "        text-align: right;\n",
       "    }\n",
       "</style>\n",
       "<table border=\"1\" class=\"dataframe\">\n",
       "  <thead>\n",
       "    <tr style=\"text-align: right;\">\n",
       "      <th></th>\n",
       "      <th>Publisher</th>\n",
       "      <th>Journal</th>\n",
       "      <th>Article</th>\n",
       "      <th>Cost</th>\n",
       "      <th>Outlier</th>\n",
       "    </tr>\n",
       "  </thead>\n",
       "  <tbody>\n",
       "    <tr>\n",
       "      <th>0</th>\n",
       "      <td>CUP</td>\n",
       "      <td>PSYCHOLOGICAL MEDICINE</td>\n",
       "      <td>Reduced parahippocampal cortical thickness in ...</td>\n",
       "      <td>0.00</td>\n",
       "      <td>False</td>\n",
       "    </tr>\n",
       "    <tr>\n",
       "      <th>1</th>\n",
       "      <td>ACS</td>\n",
       "      <td>BIOMACROMOLECULES</td>\n",
       "      <td>Structural characterization of a Model Gram-ne...</td>\n",
       "      <td>2381.04</td>\n",
       "      <td>False</td>\n",
       "    </tr>\n",
       "    <tr>\n",
       "      <th>2</th>\n",
       "      <td>ACS</td>\n",
       "      <td>J MED CHEM</td>\n",
       "      <td>Fumaroylamino-4,5-epoxymorphinans and related ...</td>\n",
       "      <td>642.56</td>\n",
       "      <td>False</td>\n",
       "    </tr>\n",
       "  </tbody>\n",
       "</table>\n",
       "</div>"
      ],
      "text/plain": [
       "  Publisher                 Journal  \\\n",
       "0       CUP  PSYCHOLOGICAL MEDICINE   \n",
       "1       ACS       BIOMACROMOLECULES   \n",
       "2       ACS              J MED CHEM   \n",
       "\n",
       "                                             Article     Cost  Outlier  \n",
       "0  Reduced parahippocampal cortical thickness in ...     0.00    False  \n",
       "1  Structural characterization of a Model Gram-ne...  2381.04    False  \n",
       "2  Fumaroylamino-4,5-epoxymorphinans and related ...   642.56    False  "
      ]
     },
     "execution_count": 61,
     "metadata": {},
     "output_type": "execute_result"
    }
   ],
   "source": [
    "print('\\033[0;30;49mDropping \"True\" values in Outlier column and creating new data frame new_price.\\n')\n",
    "\n",
    "new_price = prices[prices['Outlier'] == False]\n",
    "new_price.head(3)"
   ]
  },
  {
   "cell_type": "code",
   "execution_count": 62,
   "metadata": {},
   "outputs": [
    {
     "name": "stdout",
     "output_type": "stream",
     "text": [
      "\u001b[0;30;49mRemoveed most outliers. New Standard Deviation is:\n",
      " 638.3288737945411\n"
     ]
    },
    {
     "data": {
      "image/png": "[encoded data removed]",
      "text/plain": [
       "<Figure size 2160x720 with 1 Axes>"
      ]
     },
     "metadata": {},
     "output_type": "display_data"
    }
   ],
   "source": [
    "print('\\033[0;30;49mRemoveed most outliers. New Standard Deviation is:\\n', std_price)\n",
    "\n",
    "# Using seaborne to plot data and find outliers.\n",
    "figure, ax = plt.subplots(figsize=(30,10))\n",
    "sns.set(style = 'darkgrid')\n",
    "\n",
    "std_price = new_price['Cost'].std()\n",
    "\n",
    "# Creating boxplot.\n",
    "sns.boxplot(x = new_price['Cost'])\n",
    "plt.title('Box Plot: New Prices')\n",
    "plt.show()"
   ]
  },
  {
   "cell_type": "markdown",
   "metadata": {},
   "source": [
    "### Challenge"
   ]
  },
  {
   "cell_type": "markdown",
   "metadata": {},
   "source": [
    "<font style = 'font-family:Aparajita'><font size = 4> 1. Determine the five most common journals and the total articles for each."
   ]
  },
  {
   "cell_type": "code",
   "execution_count": 51,
   "metadata": {},
   "outputs": [
    {
     "name": "stdout",
     "output_type": "stream",
     "text": [
      "\u001b[0;30;49mBelow are the top five most common journals and the total number of articles for each:\n",
      "\n"
     ]
    },
    {
     "data": {
      "text/plain": [
       "PLOS ONE                           183\n",
       "JOURNAL OF BIOLOGICAL CHEMISTRY     52\n",
       "NEUROIMAGE                          29\n",
       "NUCLEIC ACIDS RESEARCH              26\n",
       "PLOS GENETICS                       22\n",
       "Name: Journal, dtype: int64"
      ]
     },
     "execution_count": 51,
     "metadata": {},
     "output_type": "execute_result"
    }
   ],
   "source": [
    "print('\\033[0;30;49mBelow are the top five most common journals and the total number of articles for each:\\n')\n",
    "\n",
    "count_journal = new_price['Journal'].value_counts()\n",
    "count_journal.head(5)"
   ]
  },
  {
   "cell_type": "markdown",
   "metadata": {},
   "source": [
    "<font style = 'font-family:Aparajita'><font size = 4> 2. Calculate the mean, median, and standard deviation of the open-access cost per article for each journal."
   ]
  },
  {
   "cell_type": "markdown",
   "metadata": {},
   "source": [
    "<font style = 'font-family:Aparajita'><font size = 3><i>Information for original data:</i>"
   ]
  },
  {
   "cell_type": "code",
   "execution_count": 52,
   "metadata": {},
   "outputs": [
    {
     "name": "stdout",
     "output_type": "stream",
     "text": [
      "Standard deviation of original data: 6100.422955877218\n",
      "Mean of original data: 2015.038038461542\n",
      "Median of original data: 1852.505\n"
     ]
    }
   ],
   "source": [
    "std_raw = prices['Cost'].std()\n",
    "mean_raw = prices['Cost'].mean()\n",
    "median_raw = prices['Cost'].median()\n",
    "\n",
    "# Printing results.\n",
    "print('Standard deviation of original data:',std_raw)\n",
    "print('Mean of original data:',mean_raw)\n",
    "print('Median of original data:', median_raw)"
   ]
  },
  {
   "cell_type": "markdown",
   "metadata": {},
   "source": [
    "<font style = 'font-family:Aparajita'><font size = 3><i>Information for scrubbed data:</i>"
   ]
  },
  {
   "cell_type": "code",
   "execution_count": 75,
   "metadata": {},
   "outputs": [
    {
     "name": "stdout",
     "output_type": "stream",
     "text": [
      "Standard deviation of scrubbed data: 638.3288737945411\n",
      "Mean of scrubbed data: 1732.1225087807359\n",
      "Median of scrubbed data: 1812.89\n"
     ]
    }
   ],
   "source": [
    "std = new_price['Cost'].std()\n",
    "mean = new_price['Cost'].mean()\n",
    "median = new_price['Cost'].median()\n",
    "\n",
    "# Printing results.\n",
    "print('Standard deviation of scrubbed data:',std)\n",
    "print('Mean of scrubbed data:',mean)\n",
    "print('Median of scrubbed data:', median)"
   ]
  }
 ],
 "metadata": {
  "kernelspec": {
   "display_name": "Python 3",
   "language": "python",
   "name": "python3"
  },
  "language_info": {
   "codemirror_mode": {
    "name": "ipython",
    "version": 3
   },
   "file_extension": ".py",
   "mimetype": "text/x-python",
   "name": "python",
   "nbconvert_exporter": "python",
   "pygments_lexer": "ipython3",
   "version": "3.7.3"
  }
 },
 "nbformat": 4,
 "nbformat_minor": 2
}
